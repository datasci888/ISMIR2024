{
  "cells": [
    {
      "cell_type": "code",
      "execution_count": null,
      "metadata": {
        "id": "XelDA1GGvaXw"
      },
      "outputs": [],
      "source": [
        "!git clone https://github.com/facebookresearch/audiocraft.git\n",
        "%cd audiocraft\n",
        "# !pip install torch==2.2.1\n",
        "!pip install -e .\n",
        "!pip install dora-search\n",
        "!pip install numba"
      ]
    },
    {
      "cell_type": "markdown",
      "metadata": {
        "id": "ikoib4YboTBY"
      },
      "source": [
        "# data preprocessing etc\n",
        "\n",
        "This section includes a tool to slice the audio into 30s chunks, resample to 44100hz, and normalize. it also includes a WIP autolabeller based on essentia (https://essentia.upf.edu/models.html, https://colab.research.google.com/drive/1tFInmCYK2uX-PajYemERvtSojkT0vrhF)\n",
        "\n",
        "Tags parsed by essentia:\n",
        "- genre\n",
        "- mood/theme\n",
        "- instrumentation\n",
        "- key, bpm (these are actually from librosa)"
      ]
    },
    {
      "cell_type": "code",
      "execution_count": null,
      "metadata": {
        "colab": {
          "base_uri": "https://localhost:8080/"
        },
        "id": "aZyAOF1SvAv7",
        "outputId": "5def4181-9830-42f7-f838-e71aa220c6d5"
      },
      "outputs": [
        {
          "name": "stdout",
          "output_type": "stream",
          "text": [
            "Mounted at /content/drive\n"
          ]
        }
      ],
      "source": [
        "# from google.colab import drive\n",
        "# drive.mount('/content/drive')"
      ]
    },
    {
      "cell_type": "code",
      "execution_count": null,
      "metadata": {
        "id": "vZpD62WSvICH"
      },
      "outputs": [],
      "source": [
        "\n",
        "# mount google drive to access dataset\n",
        "# from google.colab import drive\n",
        "# drive.mount('/content/drive')\n",
        "\n",
        "dataset_path = \"/home/murali/data/samples/train_musicgen_edm_uncond/train/outputs/\""
      ]
    },
    {
      "cell_type": "code",
      "execution_count": null,
      "metadata": {
        "id": "wuIIBXApr2Iq"
      },
      "outputs": [],
      "source": [
        "# split and resample\n",
        "# don't run this if your audio is already sliced and resampled\n",
        "\n",
        "import os\n",
        "from pydub import AudioSegment\n",
        "\n",
        "os.makedirs(os.path.join(dataset_path, \"original\"), exist_ok=True)\n",
        "\n",
        "for filename in os.listdir(dataset_path):\n",
        "    if filename.endswith(('.mp3', '.wav', '.flac')):\n",
        "\n",
        "        # move original file out of the way\n",
        "        # os.rename(filename, f\"original/{filename}\")\n",
        "        # audio = AudioSegment.from_file(f\"original/{filename}\")\n",
        "\n",
        "         # Move original file to the 'original' directory\n",
        "        original_file_path = os.path.join(dataset_path, filename)\n",
        "        new_file_path = os.path.join(dataset_path, \"original\", filename)\n",
        "        os.rename(original_file_path, new_file_path)\n",
        "\n",
        "\n",
        "        # audio = AudioSegment.from_file(f\"original/{filename}\")\n",
        "        audio = AudioSegment.from_file(new_file_path)\n",
        "\n",
        "\n",
        "\n",
        "        # resample\n",
        "        audio = audio.set_frame_rate(44100)\n",
        "\n",
        "        # split into 30-second chunks\n",
        "        for i in range(0, len(audio), 30000):\n",
        "            chunk = audio[i:i+30000]\n",
        "            chunk.export(f\"{new_file_path[:-4]}_chunk{i//1000}.wav\", format=\"wav\")\n"
      ]
    },
    {
      "cell_type": "code",
      "execution_count": null,
      "metadata": {
        "colab": {
          "base_uri": "https://localhost:8080/"
        },
        "id": "J0lknCOjoSAE",
        "outputId": "2b10da33-e6dd-4b30-a71d-7b6b093bde4b"
      },
      "outputs": [
        {
          "name": "stdout",
          "output_type": "stream",
          "text": [
            "[sudo] password for murali: \n",
            "Requirement already satisfied: essentia-tensorflow in ./anaconda3/lib/python3.11/site-packages (2.1b6.dev1110)\n",
            "Requirement already satisfied: numpy>=1.8.2 in ./anaconda3/lib/python3.11/site-packages (from essentia-tensorflow) (1.26.4)\n",
            "Requirement already satisfied: six in ./anaconda3/lib/python3.11/site-packages (from essentia-tensorflow) (1.16.0)\n",
            "Requirement already satisfied: pyyaml in ./anaconda3/lib/python3.11/site-packages (from essentia-tensorflow) (6.0.1)\n"
          ]
        }
      ],
      "source": [
        "# install essentia and requirements\n",
        "\n",
        "# this line is needed for the tensorflow modules to install properly!!\n",
        "!sudo apt-get install build-essential libeigen3-dev libyaml-dev libfftw3-dev libtag1-dev libchromaprint-dev\n",
        "\n",
        "!pip install -U essentia-tensorflow"
      ]
    },
    {
      "cell_type": "code",
      "execution_count": null,
      "metadata": {
        "colab": {
          "base_uri": "https://localhost:8080/"
        },
        "id": "Q7gZlO_rqnQd",
        "outputId": "d20a94e2-aba7-40b4-9696-a7b2d33320cd"
      },
      "outputs": [
        {
          "name": "stdout",
          "output_type": "stream",
          "text": [
            "  % Total    % Received % Xferd  Average Speed   Time    Time     Time  Current\n",
            "                                 Dload  Upload   Total   Spent    Left  Speed\n",
            "100 2009k  100 2009k    0     0   155k      0  0:00:12  0:00:12 --:--:--  319k\n",
            "  % Total    % Received % Xferd  Average Speed   Time    Time     Time  Current\n",
            "                                 Dload  Upload   Total   Spent    Left  Speed\n",
            "100 17.5M  100 17.5M    0     0   516k      0  0:00:34  0:00:34 --:--:--  668k\n",
            "  % Total    % Received % Xferd  Average Speed   Time    Time     Time  Current\n",
            "                                 Dload  Upload   Total   Spent    Left  Speed\n",
            "100 2675k  100 2675k    0     0   401k      0  0:00:06  0:00:06 --:--:--  528k\n",
            "  % Total    % Received % Xferd  Average Speed   Time    Time     Time  Current\n",
            "                                 Dload  Upload   Total   Spent    Left  Speed\n",
            "100 2643k  100 2643k    0     0   517k      0  0:00:05  0:00:05 --:--:--  542k\n"
          ]
        }
      ],
      "source": [
        "# download some essentia model weights\n",
        "\n",
        "!curl https://essentia.upf.edu/models/classification-heads/genre_discogs400/genre_discogs400-discogs-effnet-1.pb --output genre_discogs400-discogs-effnet-1.pb\n",
        "!curl https://essentia.upf.edu/models/feature-extractors/discogs-effnet/discogs-effnet-bs64-1.pb --output discogs-effnet-bs64-1.pb\n",
        "!curl https://essentia.upf.edu/models/classification-heads/mtg_jamendo_moodtheme/mtg_jamendo_moodtheme-discogs-effnet-1.pb --output mtg_jamendo_moodtheme-discogs-effnet-1.pb\n",
        "!curl https://essentia.upf.edu/models/classification-heads/mtg_jamendo_instrument/mtg_jamendo_instrument-discogs-effnet-1.pb --output mtg_jamendo_instrument-discogs-effnet-1.pb"
      ]
    },
    {
      "cell_type": "code",
      "execution_count": null,
      "metadata": {
        "cellView": "form",
        "id": "1JX_9JaIquIR"
      },
      "outputs": [],
      "source": [
        "# @title metadata (labels) for essentia - LONG CELL DONT OPEN\n",
        "genre_labels = [\n",
        "    \"Blues---Boogie Woogie\",\n",
        "    \"Blues---Chicago Blues\",\n",
        "    \"Blues---Country Blues\",\n",
        "    \"Blues---Delta Blues\",\n",
        "    \"Blues---Electric Blues\",\n",
        "    \"Blues---Harmonica Blues\",\n",
        "    \"Blues---Jump Blues\",\n",
        "    \"Blues---Louisiana Blues\",\n",
        "    \"Blues---Modern Electric Blues\",\n",
        "    \"Blues---Piano Blues\",\n",
        "    \"Blues---Rhythm & Blues\",\n",
        "    \"Blues---Texas Blues\",\n",
        "    \"Brass & Military---Brass Band\",\n",
        "    \"Brass & Military---Marches\",\n",
        "    \"Brass & Military---Military\",\n",
        "    \"Children's---Educational\",\n",
        "    \"Children's---Nursery Rhymes\",\n",
        "    \"Children's---Story\",\n",
        "    \"Classical---Baroque\",\n",
        "    \"Classical---Choral\",\n",
        "    \"Classical---Classical\",\n",
        "    \"Classical---Contemporary\",\n",
        "    \"Classical---Impressionist\",\n",
        "    \"Classical---Medieval\",\n",
        "    \"Classical---Modern\",\n",
        "    \"Classical---Neo-Classical\",\n",
        "    \"Classical---Neo-Romantic\",\n",
        "    \"Classical---Opera\",\n",
        "    \"Classical---Post-Modern\",\n",
        "    \"Classical---Renaissance\",\n",
        "    \"Classical---Romantic\",\n",
        "    \"Electronic---Abstract\",\n",
        "    \"Electronic---Acid\",\n",
        "    \"Electronic---Acid House\",\n",
        "    \"Electronic---Acid Jazz\",\n",
        "    \"Electronic---Ambient\",\n",
        "    \"Electronic---Bassline\",\n",
        "    \"Electronic---Beatdown\",\n",
        "    \"Electronic---Berlin-School\",\n",
        "    \"Electronic---Big Beat\",\n",
        "    \"Electronic---Bleep\",\n",
        "    \"Electronic---Breakbeat\",\n",
        "    \"Electronic---Breakcore\",\n",
        "    \"Electronic---Breaks\",\n",
        "    \"Electronic---Broken Beat\",\n",
        "    \"Electronic---Chillwave\",\n",
        "    \"Electronic---Chiptune\",\n",
        "    \"Electronic---Dance-pop\",\n",
        "    \"Electronic---Dark Ambient\",\n",
        "    \"Electronic---Darkwave\",\n",
        "    \"Electronic---Deep House\",\n",
        "    \"Electronic---Deep Techno\",\n",
        "    \"Electronic---Disco\",\n",
        "    \"Electronic---Disco Polo\",\n",
        "    \"Electronic---Donk\",\n",
        "    \"Electronic---Downtempo\",\n",
        "    \"Electronic---Drone\",\n",
        "    \"Electronic---Drum n Bass\",\n",
        "    \"Electronic---Dub\",\n",
        "    \"Electronic---Dub Techno\",\n",
        "    \"Electronic---Dubstep\",\n",
        "    \"Electronic---Dungeon Synth\",\n",
        "    \"Electronic---EBM\",\n",
        "    \"Electronic---Electro\",\n",
        "    \"Electronic---Electro House\",\n",
        "    \"Electronic---Electroclash\",\n",
        "    \"Electronic---Euro House\",\n",
        "    \"Electronic---Euro-Disco\",\n",
        "    \"Electronic---Eurobeat\",\n",
        "    \"Electronic---Eurodance\",\n",
        "    \"Electronic---Experimental\",\n",
        "    \"Electronic---Freestyle\",\n",
        "    \"Electronic---Future Jazz\",\n",
        "    \"Electronic---Gabber\",\n",
        "    \"Electronic---Garage House\",\n",
        "    \"Electronic---Ghetto\",\n",
        "    \"Electronic---Ghetto House\",\n",
        "    \"Electronic---Glitch\",\n",
        "    \"Electronic---Goa Trance\",\n",
        "    \"Electronic---Grime\",\n",
        "    \"Electronic---Halftime\",\n",
        "    \"Electronic---Hands Up\",\n",
        "    \"Electronic---Happy Hardcore\",\n",
        "    \"Electronic---Hard House\",\n",
        "    \"Electronic---Hard Techno\",\n",
        "    \"Electronic---Hard Trance\",\n",
        "    \"Electronic---Hardcore\",\n",
        "    \"Electronic---Hardstyle\",\n",
        "    \"Electronic---Hi NRG\",\n",
        "    \"Electronic---Hip Hop\",\n",
        "    \"Electronic---Hip-House\",\n",
        "    \"Electronic---House\",\n",
        "    \"Electronic---IDM\",\n",
        "    \"Electronic---Illbient\",\n",
        "    \"Electronic---Industrial\",\n",
        "    \"Electronic---Italo House\",\n",
        "    \"Electronic---Italo-Disco\",\n",
        "    \"Electronic---Italodance\",\n",
        "    \"Electronic---Jazzdance\",\n",
        "    \"Electronic---Juke\",\n",
        "    \"Electronic---Jumpstyle\",\n",
        "    \"Electronic---Jungle\",\n",
        "    \"Electronic---Latin\",\n",
        "    \"Electronic---Leftfield\",\n",
        "    \"Electronic---Makina\",\n",
        "    \"Electronic---Minimal\",\n",
        "    \"Electronic---Minimal Techno\",\n",
        "    \"Electronic---Modern Classical\",\n",
        "    \"Electronic---Musique Concrète\",\n",
        "    \"Electronic---Neofolk\",\n",
        "    \"Electronic---New Age\",\n",
        "    \"Electronic---New Beat\",\n",
        "    \"Electronic---New Wave\",\n",
        "    \"Electronic---Noise\",\n",
        "    \"Electronic---Nu-Disco\",\n",
        "    \"Electronic---Power Electronics\",\n",
        "    \"Electronic---Progressive Breaks\",\n",
        "    \"Electronic---Progressive House\",\n",
        "    \"Electronic---Progressive Trance\",\n",
        "    \"Electronic---Psy-Trance\",\n",
        "    \"Electronic---Rhythmic Noise\",\n",
        "    \"Electronic---Schranz\",\n",
        "    \"Electronic---Sound Collage\",\n",
        "    \"Electronic---Speed Garage\",\n",
        "    \"Electronic---Speedcore\",\n",
        "    \"Electronic---Synth-pop\",\n",
        "    \"Electronic---Synthwave\",\n",
        "    \"Electronic---Tech House\",\n",
        "    \"Electronic---Tech Trance\",\n",
        "    \"Electronic---Techno\",\n",
        "    \"Electronic---Trance\",\n",
        "    \"Electronic---Tribal\",\n",
        "    \"Electronic---Tribal House\",\n",
        "    \"Electronic---Trip Hop\",\n",
        "    \"Electronic---Tropical House\",\n",
        "    \"Electronic---UK Garage\",\n",
        "    \"Electronic---Vaporwave\",\n",
        "    \"Folk, World, & Country---African\",\n",
        "    \"Folk, World, & Country---Bluegrass\",\n",
        "    \"Folk, World, & Country---Cajun\",\n",
        "    \"Folk, World, & Country---Canzone Napoletana\",\n",
        "    \"Folk, World, & Country---Catalan Music\",\n",
        "    \"Folk, World, & Country---Celtic\",\n",
        "    \"Folk, World, & Country---Country\",\n",
        "    \"Folk, World, & Country---Fado\",\n",
        "    \"Folk, World, & Country---Flamenco\",\n",
        "    \"Folk, World, & Country---Folk\",\n",
        "    \"Folk, World, & Country---Gospel\",\n",
        "    \"Folk, World, & Country---Highlife\",\n",
        "    \"Folk, World, & Country---Hillbilly\",\n",
        "    \"Folk, World, & Country---Hindustani\",\n",
        "    \"Folk, World, & Country---Honky Tonk\",\n",
        "    \"Folk, World, & Country---Indian Classical\",\n",
        "    \"Folk, World, & Country---Laïkó\",\n",
        "    \"Folk, World, & Country---Nordic\",\n",
        "    \"Folk, World, & Country---Pacific\",\n",
        "    \"Folk, World, & Country---Polka\",\n",
        "    \"Folk, World, & Country---Raï\",\n",
        "    \"Folk, World, & Country---Romani\",\n",
        "    \"Folk, World, & Country---Soukous\",\n",
        "    \"Folk, World, & Country---Séga\",\n",
        "    \"Folk, World, & Country---Volksmusik\",\n",
        "    \"Folk, World, & Country---Zouk\",\n",
        "    \"Folk, World, & Country---Éntekhno\",\n",
        "    \"Funk / Soul---Afrobeat\",\n",
        "    \"Funk / Soul---Boogie\",\n",
        "    \"Funk / Soul---Contemporary R&B\",\n",
        "    \"Funk / Soul---Disco\",\n",
        "    \"Funk / Soul---Free Funk\",\n",
        "    \"Funk / Soul---Funk\",\n",
        "    \"Funk / Soul---Gospel\",\n",
        "    \"Funk / Soul---Neo Soul\",\n",
        "    \"Funk / Soul---New Jack Swing\",\n",
        "    \"Funk / Soul---P.Funk\",\n",
        "    \"Funk / Soul---Psychedelic\",\n",
        "    \"Funk / Soul---Rhythm & Blues\",\n",
        "    \"Funk / Soul---Soul\",\n",
        "    \"Funk / Soul---Swingbeat\",\n",
        "    \"Funk / Soul---UK Street Soul\",\n",
        "    \"Hip Hop---Bass Music\",\n",
        "    \"Hip Hop---Boom Bap\",\n",
        "    \"Hip Hop---Bounce\",\n",
        "    \"Hip Hop---Britcore\",\n",
        "    \"Hip Hop---Cloud Rap\",\n",
        "    \"Hip Hop---Conscious\",\n",
        "    \"Hip Hop---Crunk\",\n",
        "    \"Hip Hop---Cut-up/DJ\",\n",
        "    \"Hip Hop---DJ Battle Tool\",\n",
        "    \"Hip Hop---Electro\",\n",
        "    \"Hip Hop---G-Funk\",\n",
        "    \"Hip Hop---Gangsta\",\n",
        "    \"Hip Hop---Grime\",\n",
        "    \"Hip Hop---Hardcore Hip-Hop\",\n",
        "    \"Hip Hop---Horrorcore\",\n",
        "    \"Hip Hop---Instrumental\",\n",
        "    \"Hip Hop---Jazzy Hip-Hop\",\n",
        "    \"Hip Hop---Miami Bass\",\n",
        "    \"Hip Hop---Pop Rap\",\n",
        "    \"Hip Hop---Ragga HipHop\",\n",
        "    \"Hip Hop---RnB/Swing\",\n",
        "    \"Hip Hop---Screw\",\n",
        "    \"Hip Hop---Thug Rap\",\n",
        "    \"Hip Hop---Trap\",\n",
        "    \"Hip Hop---Trip Hop\",\n",
        "    \"Hip Hop---Turntablism\",\n",
        "    \"Jazz---Afro-Cuban Jazz\",\n",
        "    \"Jazz---Afrobeat\",\n",
        "    \"Jazz---Avant-garde Jazz\",\n",
        "    \"Jazz---Big Band\",\n",
        "    \"Jazz---Bop\",\n",
        "    \"Jazz---Bossa Nova\",\n",
        "    \"Jazz---Contemporary Jazz\",\n",
        "    \"Jazz---Cool Jazz\",\n",
        "    \"Jazz---Dixieland\",\n",
        "    \"Jazz---Easy Listening\",\n",
        "    \"Jazz---Free Improvisation\",\n",
        "    \"Jazz---Free Jazz\",\n",
        "    \"Jazz---Fusion\",\n",
        "    \"Jazz---Gypsy Jazz\",\n",
        "    \"Jazz---Hard Bop\",\n",
        "    \"Jazz---Jazz-Funk\",\n",
        "    \"Jazz---Jazz-Rock\",\n",
        "    \"Jazz---Latin Jazz\",\n",
        "    \"Jazz---Modal\",\n",
        "    \"Jazz---Post Bop\",\n",
        "    \"Jazz---Ragtime\",\n",
        "    \"Jazz---Smooth Jazz\",\n",
        "    \"Jazz---Soul-Jazz\",\n",
        "    \"Jazz---Space-Age\",\n",
        "    \"Jazz---Swing\",\n",
        "    \"Latin---Afro-Cuban\",\n",
        "    \"Latin---Baião\",\n",
        "    \"Latin---Batucada\",\n",
        "    \"Latin---Beguine\",\n",
        "    \"Latin---Bolero\",\n",
        "    \"Latin---Boogaloo\",\n",
        "    \"Latin---Bossanova\",\n",
        "    \"Latin---Cha-Cha\",\n",
        "    \"Latin---Charanga\",\n",
        "    \"Latin---Compas\",\n",
        "    \"Latin---Cubano\",\n",
        "    \"Latin---Cumbia\",\n",
        "    \"Latin---Descarga\",\n",
        "    \"Latin---Forró\",\n",
        "    \"Latin---Guaguancó\",\n",
        "    \"Latin---Guajira\",\n",
        "    \"Latin---Guaracha\",\n",
        "    \"Latin---MPB\",\n",
        "    \"Latin---Mambo\",\n",
        "    \"Latin---Mariachi\",\n",
        "    \"Latin---Merengue\",\n",
        "    \"Latin---Norteño\",\n",
        "    \"Latin---Nueva Cancion\",\n",
        "    \"Latin---Pachanga\",\n",
        "    \"Latin---Porro\",\n",
        "    \"Latin---Ranchera\",\n",
        "    \"Latin---Reggaeton\",\n",
        "    \"Latin---Rumba\",\n",
        "    \"Latin---Salsa\",\n",
        "    \"Latin---Samba\",\n",
        "    \"Latin---Son\",\n",
        "    \"Latin---Son Montuno\",\n",
        "    \"Latin---Tango\",\n",
        "    \"Latin---Tejano\",\n",
        "    \"Latin---Vallenato\",\n",
        "    \"Non-Music---Audiobook\",\n",
        "    \"Non-Music---Comedy\",\n",
        "    \"Non-Music---Dialogue\",\n",
        "    \"Non-Music---Education\",\n",
        "    \"Non-Music---Field Recording\",\n",
        "    \"Non-Music---Interview\",\n",
        "    \"Non-Music---Monolog\",\n",
        "    \"Non-Music---Poetry\",\n",
        "    \"Non-Music---Political\",\n",
        "    \"Non-Music---Promotional\",\n",
        "    \"Non-Music---Radioplay\",\n",
        "    \"Non-Music---Religious\",\n",
        "    \"Non-Music---Spoken Word\",\n",
        "    \"Pop---Ballad\",\n",
        "    \"Pop---Bollywood\",\n",
        "    \"Pop---Bubblegum\",\n",
        "    \"Pop---Chanson\",\n",
        "    \"Pop---City Pop\",\n",
        "    \"Pop---Europop\",\n",
        "    \"Pop---Indie Pop\",\n",
        "    \"Pop---J-pop\",\n",
        "    \"Pop---K-pop\",\n",
        "    \"Pop---Kayōkyoku\",\n",
        "    \"Pop---Light Music\",\n",
        "    \"Pop---Music Hall\",\n",
        "    \"Pop---Novelty\",\n",
        "    \"Pop---Parody\",\n",
        "    \"Pop---Schlager\",\n",
        "    \"Pop---Vocal\",\n",
        "    \"Reggae---Calypso\",\n",
        "    \"Reggae---Dancehall\",\n",
        "    \"Reggae---Dub\",\n",
        "    \"Reggae---Lovers Rock\",\n",
        "    \"Reggae---Ragga\",\n",
        "    \"Reggae---Reggae\",\n",
        "    \"Reggae---Reggae-Pop\",\n",
        "    \"Reggae---Rocksteady\",\n",
        "    \"Reggae---Roots Reggae\",\n",
        "    \"Reggae---Ska\",\n",
        "    \"Reggae---Soca\",\n",
        "    \"Rock---AOR\",\n",
        "    \"Rock---Acid Rock\",\n",
        "    \"Rock---Acoustic\",\n",
        "    \"Rock---Alternative Rock\",\n",
        "    \"Rock---Arena Rock\",\n",
        "    \"Rock---Art Rock\",\n",
        "    \"Rock---Atmospheric Black Metal\",\n",
        "    \"Rock---Avantgarde\",\n",
        "    \"Rock---Beat\",\n",
        "    \"Rock---Black Metal\",\n",
        "    \"Rock---Blues Rock\",\n",
        "    \"Rock---Brit Pop\",\n",
        "    \"Rock---Classic Rock\",\n",
        "    \"Rock---Coldwave\",\n",
        "    \"Rock---Country Rock\",\n",
        "    \"Rock---Crust\",\n",
        "    \"Rock---Death Metal\",\n",
        "    \"Rock---Deathcore\",\n",
        "    \"Rock---Deathrock\",\n",
        "    \"Rock---Depressive Black Metal\",\n",
        "    \"Rock---Doo Wop\",\n",
        "    \"Rock---Doom Metal\",\n",
        "    \"Rock---Dream Pop\",\n",
        "    \"Rock---Emo\",\n",
        "    \"Rock---Ethereal\",\n",
        "    \"Rock---Experimental\",\n",
        "    \"Rock---Folk Metal\",\n",
        "    \"Rock---Folk Rock\",\n",
        "    \"Rock---Funeral Doom Metal\",\n",
        "    \"Rock---Funk Metal\",\n",
        "    \"Rock---Garage Rock\",\n",
        "    \"Rock---Glam\",\n",
        "    \"Rock---Goregrind\",\n",
        "    \"Rock---Goth Rock\",\n",
        "    \"Rock---Gothic Metal\",\n",
        "    \"Rock---Grindcore\",\n",
        "    \"Rock---Grunge\",\n",
        "    \"Rock---Hard Rock\",\n",
        "    \"Rock---Hardcore\",\n",
        "    \"Rock---Heavy Metal\",\n",
        "    \"Rock---Indie Rock\",\n",
        "    \"Rock---Industrial\",\n",
        "    \"Rock---Krautrock\",\n",
        "    \"Rock---Lo-Fi\",\n",
        "    \"Rock---Lounge\",\n",
        "    \"Rock---Math Rock\",\n",
        "    \"Rock---Melodic Death Metal\",\n",
        "    \"Rock---Melodic Hardcore\",\n",
        "    \"Rock---Metalcore\",\n",
        "    \"Rock---Mod\",\n",
        "    \"Rock---Neofolk\",\n",
        "    \"Rock---New Wave\",\n",
        "    \"Rock---No Wave\",\n",
        "    \"Rock---Noise\",\n",
        "    \"Rock---Noisecore\",\n",
        "    \"Rock---Nu Metal\",\n",
        "    \"Rock---Oi\",\n",
        "    \"Rock---Parody\",\n",
        "    \"Rock---Pop Punk\",\n",
        "    \"Rock---Pop Rock\",\n",
        "    \"Rock---Pornogrind\",\n",
        "    \"Rock---Post Rock\",\n",
        "    \"Rock---Post-Hardcore\",\n",
        "    \"Rock---Post-Metal\",\n",
        "    \"Rock---Post-Punk\",\n",
        "    \"Rock---Power Metal\",\n",
        "    \"Rock---Power Pop\",\n",
        "    \"Rock---Power Violence\",\n",
        "    \"Rock---Prog Rock\",\n",
        "    \"Rock---Progressive Metal\",\n",
        "    \"Rock---Psychedelic Rock\",\n",
        "    \"Rock---Psychobilly\",\n",
        "    \"Rock---Pub Rock\",\n",
        "    \"Rock---Punk\",\n",
        "    \"Rock---Rock & Roll\",\n",
        "    \"Rock---Rockabilly\",\n",
        "    \"Rock---Shoegaze\",\n",
        "    \"Rock---Ska\",\n",
        "    \"Rock---Sludge Metal\",\n",
        "    \"Rock---Soft Rock\",\n",
        "    \"Rock---Southern Rock\",\n",
        "    \"Rock---Space Rock\",\n",
        "    \"Rock---Speed Metal\",\n",
        "    \"Rock---Stoner Rock\",\n",
        "    \"Rock---Surf\",\n",
        "    \"Rock---Symphonic Rock\",\n",
        "    \"Rock---Technical Death Metal\",\n",
        "    \"Rock---Thrash\",\n",
        "    \"Rock---Twist\",\n",
        "    \"Rock---Viking Metal\",\n",
        "    \"Rock---Yé-Yé\",\n",
        "    \"Stage & Screen---Musical\",\n",
        "    \"Stage & Screen---Score\",\n",
        "    \"Stage & Screen---Soundtrack\",\n",
        "    \"Stage & Screen---Theme\",\n",
        "]\n",
        "mood_theme_classes = [\n",
        "    \"action\",\n",
        "    \"adventure\",\n",
        "    \"advertising\",\n",
        "    \"background\",\n",
        "    \"ballad\",\n",
        "    \"calm\",\n",
        "    \"children\",\n",
        "    \"christmas\",\n",
        "    \"commercial\",\n",
        "    \"cool\",\n",
        "    \"corporate\",\n",
        "    \"dark\",\n",
        "    \"deep\",\n",
        "    \"documentary\",\n",
        "    \"drama\",\n",
        "    \"dramatic\",\n",
        "    \"dream\",\n",
        "    \"emotional\",\n",
        "    \"energetic\",\n",
        "    \"epic\",\n",
        "    \"fast\",\n",
        "    \"film\",\n",
        "    \"fun\",\n",
        "    \"funny\",\n",
        "    \"game\",\n",
        "    \"groovy\",\n",
        "    \"happy\",\n",
        "    \"heavy\",\n",
        "    \"holiday\",\n",
        "    \"hopeful\",\n",
        "    \"inspiring\",\n",
        "    \"love\",\n",
        "    \"meditative\",\n",
        "    \"melancholic\",\n",
        "    \"melodic\",\n",
        "    \"motivational\",\n",
        "    \"movie\",\n",
        "    \"nature\",\n",
        "    \"party\",\n",
        "    \"positive\",\n",
        "    \"powerful\",\n",
        "    \"relaxing\",\n",
        "    \"retro\",\n",
        "    \"romantic\",\n",
        "    \"sad\",\n",
        "    \"sexy\",\n",
        "    \"slow\",\n",
        "    \"soft\",\n",
        "    \"soundscape\",\n",
        "    \"space\",\n",
        "    \"sport\",\n",
        "    \"summer\",\n",
        "    \"trailer\",\n",
        "    \"travel\",\n",
        "    \"upbeat\",\n",
        "    \"uplifting\"\n",
        "]\n",
        "instrument_classes = [\n",
        "    \"accordion\",\n",
        "    \"acousticbassguitar\",\n",
        "    \"acousticguitar\",\n",
        "    \"bass\",\n",
        "    \"beat\",\n",
        "    \"bell\",\n",
        "    \"bongo\",\n",
        "    \"brass\",\n",
        "    \"cello\",\n",
        "    \"clarinet\",\n",
        "    \"classicalguitar\",\n",
        "    \"computer\",\n",
        "    \"doublebass\",\n",
        "    \"drummachine\",\n",
        "    \"drums\",\n",
        "    \"electricguitar\",\n",
        "    \"electricpiano\",\n",
        "    \"flute\",\n",
        "    \"guitar\",\n",
        "    \"harmonica\",\n",
        "    \"harp\",\n",
        "    \"horn\",\n",
        "    \"keyboard\",\n",
        "    \"oboe\",\n",
        "    \"orchestra\",\n",
        "    \"organ\",\n",
        "    \"pad\",\n",
        "    \"percussion\",\n",
        "    \"piano\",\n",
        "    \"pipeorgan\",\n",
        "    \"rhodes\",\n",
        "    \"sampler\",\n",
        "    \"saxophone\",\n",
        "    \"strings\",\n",
        "    \"synthesizer\",\n",
        "    \"trombone\",\n",
        "    \"trumpet\",\n",
        "    \"viola\",\n",
        "    \"violin\",\n",
        "    \"voice\"\n",
        "]"
      ]
    },
    {
      "cell_type": "code",
      "execution_count": null,
      "metadata": {
        "id": "ea2WQ2s6n9ek"
      },
      "outputs": [],
      "source": [
        "!cd audiocraft"
      ]
    },
    {
      "cell_type": "code",
      "execution_count": null,
      "metadata": {
        "id": "MT2zxVBYrBQ9"
      },
      "outputs": [],
      "source": [
        "from essentia.standard import MonoLoader, TensorflowPredictEffnetDiscogs, TensorflowPredict2D\n",
        "import numpy as np\n",
        "\n",
        "def filter_predictions(predictions, class_list, threshold=0.1):\n",
        "    predictions_mean = np.mean(predictions, axis=0)\n",
        "    sorted_indices = np.argsort(predictions_mean)[::-1]\n",
        "    filtered_indices = [i for i in sorted_indices if predictions_mean[i] > threshold]\n",
        "    filtered_labels = [class_list[i] for i in filtered_indices]\n",
        "    filtered_values = [predictions_mean[i] for i in filtered_indices]\n",
        "    return filtered_labels, filtered_values\n",
        "\n",
        "def make_comma_separated_unique(tags):\n",
        "    seen_tags = set()\n",
        "    result = []\n",
        "    for tag in ', '.join(tags).split(', '):\n",
        "        if tag not in seen_tags:\n",
        "            result.append(tag)\n",
        "            seen_tags.add(tag)\n",
        "    return ', '.join(result)\n",
        "\n",
        "def get_audio_features(audio_filename):\n",
        "    audio = MonoLoader(filename=audio_filename, sampleRate=16000, resampleQuality=4)()\n",
        "    embedding_model = TensorflowPredictEffnetDiscogs(graphFilename=\"discogs-effnet-bs64-1.pb\", output=\"PartitionedCall:1\")\n",
        "    embeddings = embedding_model(audio)\n",
        "\n",
        "    result_dict = {}\n",
        "\n",
        "    # predict genres\n",
        "    genre_model = TensorflowPredict2D(graphFilename=\"genre_discogs400-discogs-effnet-1.pb\", input=\"serving_default_model_Placeholder\", output=\"PartitionedCall:0\")\n",
        "    predictions = genre_model(embeddings)\n",
        "    filtered_labels, _ = filter_predictions(predictions, genre_labels)\n",
        "    filtered_labels = ', '.join(filtered_labels).replace(\"---\", \", \").split(', ')\n",
        "    result_dict['genres'] = make_comma_separated_unique(filtered_labels)\n",
        "\n",
        "    # predict mood/theme\n",
        "    mood_model = TensorflowPredict2D(graphFilename=\"mtg_jamendo_moodtheme-discogs-effnet-1.pb\")\n",
        "    predictions = mood_model(embeddings)\n",
        "    filtered_labels, _ = filter_predictions(predictions, mood_theme_classes, threshold=0.05)\n",
        "    result_dict['moods'] = make_comma_separated_unique(filtered_labels)\n",
        "\n",
        "    # predict instruments\n",
        "    instrument_model = TensorflowPredict2D(graphFilename=\"mtg_jamendo_instrument-discogs-effnet-1.pb\")\n",
        "    predictions = instrument_model(embeddings)\n",
        "    filtered_labels, _ = filter_predictions(predictions, instrument_classes)\n",
        "    result_dict['instruments'] = filtered_labels\n",
        "\n",
        "    return result_dict"
      ]
    },
    {
      "cell_type": "code",
      "execution_count": null,
      "metadata": {
        "id": "pcR_bn7cxGCi"
      },
      "outputs": [],
      "source": [
        "#dataset_path = \"/home/murali/data/original\""
      ]
    },
    {
      "cell_type": "code",
      "execution_count": null,
      "metadata": {
        "colab": {
          "base_uri": "https://localhost:8080/"
        },
        "id": "V70iL5aUyZOS",
        "outputId": "dc626a05-6e09-44be-9e5e-7067366a985d"
      },
      "outputs": [
        {
          "name": "stdout",
          "output_type": "stream",
          "text": [
            "PANIVIZHUM_DM_TEMPO_85_4_4.wav\t  SWAAMINAADHA_CM_TEMPO_102_4_4.wav\n",
            "PRAMADAVANAM_CM_TEMPO_78_4_4.wav  VAARMUKILE_CM_TEMPO_80_4_4.wav\n"
          ]
        }
      ],
      "source": [
        "!ls /home/murali/data/original"
      ]
    },
    {
      "cell_type": "code",
      "execution_count": null,
      "metadata": {
        "colab": {
          "base_uri": "https://localhost:8080/",
          "height": 411
        },
        "id": "2yN_ar3rrm86",
        "outputId": "cfeb3d65-540e-4701-91d3-ef095703c38f"
      },
      "outputs": [
        {
          "name": "stdout",
          "output_type": "stream",
          "text": [
            "['SWAAMINAADHA_CM_TEMPO_102_4_4.wav', 'PANIVIZHUM_DM_TEMPO_85_4_4.wav', 'MIZHIYAZHAK_DM_TEMPO_90_4_4.wav', 'ENTHITHRA_THAAMASAM_DM_TEMPO_90_4_4.wav', 'DASARADHA_CM_TEMPO_78_4_4.wav', 'AYYENGAARU_DM_TEMPO_100_4_4.wav', 'VAARMUKILE_CM_TEMPO_80_4_4.wav', 'PRAMADAVANAM_CM_TEMPO_78_4_4.wav']\n"
          ]
        },
        {
          "name": "stderr",
          "output_type": "stream",
          "text": [
            "[   INFO   ] TensorflowPredict: Successfully loaded graph file: `discogs-effnet-bs64-1.pb`\n",
            "[   INFO   ] TensorflowPredict: Successfully loaded graph file: `genre_discogs400-discogs-effnet-1.pb`\n",
            "[   INFO   ] TensorflowPredict: Successfully loaded graph file: `genre_discogs400-discogs-effnet-1.pb`\n",
            "[   INFO   ] TensorflowPredict: Successfully loaded graph file: `mtg_jamendo_moodtheme-discogs-effnet-1.pb`\n",
            "[   INFO   ] TensorflowPredict: Successfully loaded graph file: `mtg_jamendo_moodtheme-discogs-effnet-1.pb`\n",
            "[   INFO   ] TensorflowPredict: Successfully loaded graph file: `mtg_jamendo_instrument-discogs-effnet-1.pb`\n",
            "[   INFO   ] TensorflowPredict: Successfully loaded graph file: `mtg_jamendo_instrument-discogs-effnet-1.pb`\n"
          ]
        },
        {
          "name": "stdout",
          "output_type": "stream",
          "text": [
            "{'key': 'D', 'artist': '', 'sample_rate': 44100, 'file_extension': 'wav', 'description': '', 'keywords': '', 'duration': 107.29410430839002, 'bpm': 112, 'genre': 'Classical, Contemporary, Neo-Classical, Post-Modern', 'title': '', 'name': '', 'instrument': ['piano'], 'moods': 'relaxing, emotional, film, background, melodic, romantic, drama, meditative, sad, melancholic, christmas', 'path': '/home/murali/data/samples/train_musicgen_edm_uncond/train/outputs/original/PANIVIZHUM_DM_TEMPO_85_4_4.wav'}\n"
          ]
        },
        {
          "name": "stderr",
          "output_type": "stream",
          "text": [
            "[   INFO   ] TensorflowPredict: Successfully loaded graph file: `discogs-effnet-bs64-1.pb`\n",
            "[   INFO   ] TensorflowPredict: Successfully loaded graph file: `genre_discogs400-discogs-effnet-1.pb`\n",
            "[   INFO   ] TensorflowPredict: Successfully loaded graph file: `genre_discogs400-discogs-effnet-1.pb`\n",
            "[   INFO   ] TensorflowPredict: Successfully loaded graph file: `mtg_jamendo_moodtheme-discogs-effnet-1.pb`\n",
            "[   INFO   ] TensorflowPredict: Successfully loaded graph file: `mtg_jamendo_moodtheme-discogs-effnet-1.pb`\n",
            "[   INFO   ] TensorflowPredict: Successfully loaded graph file: `mtg_jamendo_instrument-discogs-effnet-1.pb`\n",
            "[   INFO   ] TensorflowPredict: Successfully loaded graph file: `mtg_jamendo_instrument-discogs-effnet-1.pb`\n"
          ]
        },
        {
          "name": "stdout",
          "output_type": "stream",
          "text": [
            "{'key': 'G', 'artist': '', 'sample_rate': 44100, 'file_extension': 'wav', 'description': '', 'keywords': '', 'duration': 110.4, 'bpm': 199, 'genre': 'Classical, Contemporary, Neo-Classical', 'title': '', 'name': '', 'instrument': ['piano'], 'moods': 'relaxing, background, emotional, film, drama, melodic, romantic, meditative, melancholic, sad', 'path': '/home/murali/data/samples/train_musicgen_edm_uncond/train/outputs/original/AYYENGAARU_DM_TEMPO_100_4_4.wav'}\n"
          ]
        },
        {
          "name": "stderr",
          "output_type": "stream",
          "text": [
            "[   INFO   ] TensorflowPredict: Successfully loaded graph file: `discogs-effnet-bs64-1.pb`\n",
            "[   INFO   ] TensorflowPredict: Successfully loaded graph file: `genre_discogs400-discogs-effnet-1.pb`\n",
            "[   INFO   ] TensorflowPredict: Successfully loaded graph file: `genre_discogs400-discogs-effnet-1.pb`\n",
            "[   INFO   ] TensorflowPredict: Successfully loaded graph file: `mtg_jamendo_moodtheme-discogs-effnet-1.pb`\n",
            "[   INFO   ] TensorflowPredict: Successfully loaded graph file: `mtg_jamendo_moodtheme-discogs-effnet-1.pb`\n",
            "[   INFO   ] TensorflowPredict: Successfully loaded graph file: `mtg_jamendo_instrument-discogs-effnet-1.pb`\n",
            "[   INFO   ] TensorflowPredict: Successfully loaded graph file: `mtg_jamendo_instrument-discogs-effnet-1.pb`\n"
          ]
        },
        {
          "name": "stdout",
          "output_type": "stream",
          "text": [
            "{'key': 'D#', 'artist': '', 'sample_rate': 44100, 'file_extension': 'wav', 'description': '', 'keywords': '', 'duration': 109.33333333333333, 'bpm': 123, 'genre': 'Classical, Contemporary, Electronic, Progressive Breaks, Trip Hop', 'title': '', 'name': '', 'instrument': ['piano'], 'moods': 'relaxing, emotional, background, film, melodic, romantic, sad, melancholic, meditative, drama, christmas, ballad, soft, inspiring', 'path': '/home/murali/data/samples/train_musicgen_edm_uncond/train/outputs/original/MIZHIYAZHAK_DM_TEMPO_90_4_4.wav'}\n"
          ]
        },
        {
          "name": "stderr",
          "output_type": "stream",
          "text": [
            "[   INFO   ] TensorflowPredict: Successfully loaded graph file: `discogs-effnet-bs64-1.pb`\n",
            "[   INFO   ] TensorflowPredict: Successfully loaded graph file: `genre_discogs400-discogs-effnet-1.pb`\n",
            "[   INFO   ] TensorflowPredict: Successfully loaded graph file: `genre_discogs400-discogs-effnet-1.pb`\n",
            "[   INFO   ] TensorflowPredict: Successfully loaded graph file: `mtg_jamendo_moodtheme-discogs-effnet-1.pb`\n",
            "[   INFO   ] TensorflowPredict: Successfully loaded graph file: `mtg_jamendo_moodtheme-discogs-effnet-1.pb`\n",
            "[   INFO   ] TensorflowPredict: Successfully loaded graph file: `mtg_jamendo_instrument-discogs-effnet-1.pb`\n",
            "[   INFO   ] TensorflowPredict: Successfully loaded graph file: `mtg_jamendo_instrument-discogs-effnet-1.pb`\n"
          ]
        },
        {
          "name": "stdout",
          "output_type": "stream",
          "text": [
            "{'key': 'G', 'artist': '', 'sample_rate': 44100, 'file_extension': 'wav', 'description': '', 'keywords': '', 'duration': 107.6922902494331, 'bpm': 103, 'genre': 'Classical, Contemporary, Post-Modern, Neo-Classical, Modern', 'title': '', 'name': '', 'instrument': ['piano'], 'moods': 'relaxing, background, emotional, film, melodic, drama, romantic, meditative, sad, melancholic', 'path': '/home/murali/data/samples/train_musicgen_edm_uncond/train/outputs/original/PRAMADAVANAM_CM_TEMPO_78_4_4.wav'}\n"
          ]
        },
        {
          "name": "stderr",
          "output_type": "stream",
          "text": [
            "[   INFO   ] TensorflowPredict: Successfully loaded graph file: `discogs-effnet-bs64-1.pb`\n",
            "[   INFO   ] TensorflowPredict: Successfully loaded graph file: `genre_discogs400-discogs-effnet-1.pb`\n",
            "[   INFO   ] TensorflowPredict: Successfully loaded graph file: `genre_discogs400-discogs-effnet-1.pb`\n",
            "[   INFO   ] TensorflowPredict: Successfully loaded graph file: `mtg_jamendo_moodtheme-discogs-effnet-1.pb`\n",
            "[   INFO   ] TensorflowPredict: Successfully loaded graph file: `mtg_jamendo_moodtheme-discogs-effnet-1.pb`\n",
            "[   INFO   ] TensorflowPredict: Successfully loaded graph file: `mtg_jamendo_instrument-discogs-effnet-1.pb`\n",
            "[   INFO   ] TensorflowPredict: Successfully loaded graph file: `mtg_jamendo_instrument-discogs-effnet-1.pb`\n"
          ]
        },
        {
          "name": "stdout",
          "output_type": "stream",
          "text": [
            "{'key': 'E', 'artist': '', 'sample_rate': 44100, 'file_extension': 'wav', 'description': '', 'keywords': '', 'duration': 122.06249433106576, 'bpm': 161, 'genre': 'Classical, Contemporary, Neo-Classical', 'title': '', 'name': '', 'instrument': ['piano'], 'moods': 'relaxing, emotional, background, film, romantic, drama, sad, melodic, melancholic, meditative', 'path': '/home/murali/data/samples/train_musicgen_edm_uncond/train/outputs/original/VAARMUKILE_CM_TEMPO_80_4_4.wav'}\n"
          ]
        },
        {
          "name": "stderr",
          "output_type": "stream",
          "text": [
            "[   INFO   ] TensorflowPredict: Successfully loaded graph file: `discogs-effnet-bs64-1.pb`\n",
            "[   INFO   ] TensorflowPredict: Successfully loaded graph file: `genre_discogs400-discogs-effnet-1.pb`\n",
            "[   INFO   ] TensorflowPredict: Successfully loaded graph file: `genre_discogs400-discogs-effnet-1.pb`\n",
            "[   INFO   ] TensorflowPredict: Successfully loaded graph file: `mtg_jamendo_moodtheme-discogs-effnet-1.pb`\n",
            "[   INFO   ] TensorflowPredict: Successfully loaded graph file: `mtg_jamendo_moodtheme-discogs-effnet-1.pb`\n",
            "[   INFO   ] TensorflowPredict: Successfully loaded graph file: `mtg_jamendo_instrument-discogs-effnet-1.pb`\n",
            "[   INFO   ] TensorflowPredict: Successfully loaded graph file: `mtg_jamendo_instrument-discogs-effnet-1.pb`\n"
          ]
        },
        {
          "name": "stdout",
          "output_type": "stream",
          "text": [
            "{'key': 'C', 'artist': '', 'sample_rate': 44100, 'file_extension': 'wav', 'description': '', 'keywords': '', 'duration': 110.58825396825397, 'bpm': 136, 'genre': 'Classical, Contemporary, Neo-Classical, Impressionist, Modern', 'title': '', 'name': '', 'instrument': ['piano'], 'moods': 'relaxing, background, film, emotional, melodic, drama, romantic, meditative, melancholic, sad, christmas', 'path': '/home/murali/data/samples/train_musicgen_edm_uncond/train/outputs/original/SWAAMINAADHA_CM_TEMPO_102_4_4.wav'}\n"
          ]
        },
        {
          "name": "stderr",
          "output_type": "stream",
          "text": [
            "[   INFO   ] TensorflowPredict: Successfully loaded graph file: `discogs-effnet-bs64-1.pb`\n",
            "[   INFO   ] TensorflowPredict: Successfully loaded graph file: `genre_discogs400-discogs-effnet-1.pb`\n",
            "[   INFO   ] TensorflowPredict: Successfully loaded graph file: `genre_discogs400-discogs-effnet-1.pb`\n",
            "[   INFO   ] TensorflowPredict: Successfully loaded graph file: `mtg_jamendo_moodtheme-discogs-effnet-1.pb`\n",
            "[   INFO   ] TensorflowPredict: Successfully loaded graph file: `mtg_jamendo_moodtheme-discogs-effnet-1.pb`\n",
            "[   INFO   ] TensorflowPredict: Successfully loaded graph file: `mtg_jamendo_instrument-discogs-effnet-1.pb`\n",
            "[   INFO   ] TensorflowPredict: Successfully loaded graph file: `mtg_jamendo_instrument-discogs-effnet-1.pb`\n"
          ]
        },
        {
          "name": "stdout",
          "output_type": "stream",
          "text": [
            "{'key': 'C', 'artist': '', 'sample_rate': 44100, 'file_extension': 'wav', 'description': '', 'keywords': '', 'duration': 138.46154195011337, 'bpm': 152, 'genre': 'Classical, Contemporary, Electronic, Progressive Breaks, Trip Hop, Big Beat', 'title': '', 'name': '', 'instrument': ['piano'], 'moods': 'relaxing, background, emotional, film, melodic, romantic, melancholic, sad, drama, meditative, christmas, ballad', 'path': '/home/murali/data/samples/train_musicgen_edm_uncond/train/outputs/original/DASARADHA_CM_TEMPO_78_4_4.wav'}\n"
          ]
        },
        {
          "name": "stderr",
          "output_type": "stream",
          "text": [
            "[   INFO   ] TensorflowPredict: Successfully loaded graph file: `discogs-effnet-bs64-1.pb`\n",
            "[   INFO   ] TensorflowPredict: Successfully loaded graph file: `genre_discogs400-discogs-effnet-1.pb`\n",
            "[   INFO   ] TensorflowPredict: Successfully loaded graph file: `genre_discogs400-discogs-effnet-1.pb`\n",
            "[   INFO   ] TensorflowPredict: Successfully loaded graph file: `mtg_jamendo_moodtheme-discogs-effnet-1.pb`\n",
            "[   INFO   ] TensorflowPredict: Successfully loaded graph file: `mtg_jamendo_moodtheme-discogs-effnet-1.pb`\n",
            "[   INFO   ] TensorflowPredict: Successfully loaded graph file: `mtg_jamendo_instrument-discogs-effnet-1.pb`\n",
            "[   INFO   ] TensorflowPredict: Successfully loaded graph file: `mtg_jamendo_instrument-discogs-effnet-1.pb`\n"
          ]
        },
        {
          "name": "stdout",
          "output_type": "stream",
          "text": [
            "{'key': 'D', 'artist': '', 'sample_rate': 44100, 'file_extension': 'wav', 'description': '', 'keywords': '', 'duration': 77.33333333333333, 'bpm': 185, 'genre': 'Classical, Contemporary, Neo-Classical, Modern, Neo-Romantic', 'title': '', 'name': '', 'instrument': ['piano'], 'moods': 'relaxing, film, emotional, background, romantic, drama, melodic, meditative, christmas, melancholic, ballad', 'path': '/home/murali/data/samples/train_musicgen_edm_uncond/train/outputs/original/ENTHITHRA_THAAMASAM_DM_TEMPO_90_4_4.wav'}\n",
            "8\n",
            "0\n"
          ]
        },
        {
          "ename": "CudaSupportError",
          "evalue": "Error at driver init: \n\nCUDA driver library cannot be found.\nIf you are sure that a CUDA driver is installed,\ntry setting environment variable NUMBA_CUDA_DRIVER\nwith the file path of the CUDA driver shared library.\n:",
          "output_type": "error",
          "traceback": [
            "\u001b[0;31m---------------------------------------------------------------------------\u001b[0m",
            "\u001b[0;31mCudaSupportError\u001b[0m                          Traceback (most recent call last)",
            "Cell \u001b[0;32mIn[36], line 88\u001b[0m\n\u001b[1;32m     86\u001b[0m \u001b[38;5;66;03m# clear cuda mem for finetuning\u001b[39;00m\n\u001b[1;32m     87\u001b[0m \u001b[38;5;28;01mfrom\u001b[39;00m \u001b[38;5;21;01mnumba\u001b[39;00m \u001b[38;5;28;01mimport\u001b[39;00m cuda\n\u001b[0;32m---> 88\u001b[0m device \u001b[38;5;241m=\u001b[39m cuda\u001b[38;5;241m.\u001b[39mget_current_device()\n\u001b[1;32m     89\u001b[0m device\u001b[38;5;241m.\u001b[39mreset()\n",
            "File \u001b[0;32m~/anaconda3/lib/python3.11/site-packages/numba/cuda/api.py:443\u001b[0m, in \u001b[0;36mget_current_device\u001b[0;34m()\u001b[0m\n\u001b[1;32m    441\u001b[0m \u001b[38;5;28;01mdef\u001b[39;00m \u001b[38;5;21mget_current_device\u001b[39m():\n\u001b[1;32m    442\u001b[0m     \u001b[38;5;124m\"\u001b[39m\u001b[38;5;124mGet current device associated with the current thread\u001b[39m\u001b[38;5;124m\"\u001b[39m\n\u001b[0;32m--> 443\u001b[0m     \u001b[38;5;28;01mreturn\u001b[39;00m current_context()\u001b[38;5;241m.\u001b[39mdevice\n",
            "File \u001b[0;32m~/anaconda3/lib/python3.11/site-packages/numba/cuda/cudadrv/devices.py:220\u001b[0m, in \u001b[0;36mget_context\u001b[0;34m(devnum)\u001b[0m\n\u001b[1;32m    216\u001b[0m \u001b[38;5;28;01mdef\u001b[39;00m \u001b[38;5;21mget_context\u001b[39m(devnum\u001b[38;5;241m=\u001b[39m\u001b[38;5;28;01mNone\u001b[39;00m):\n\u001b[1;32m    217\u001b[0m \u001b[38;5;250m    \u001b[39m\u001b[38;5;124;03m\"\"\"Get the current device or use a device by device number, and\u001b[39;00m\n\u001b[1;32m    218\u001b[0m \u001b[38;5;124;03m    return the CUDA context.\u001b[39;00m\n\u001b[1;32m    219\u001b[0m \u001b[38;5;124;03m    \"\"\"\u001b[39;00m\n\u001b[0;32m--> 220\u001b[0m     \u001b[38;5;28;01mreturn\u001b[39;00m _runtime\u001b[38;5;241m.\u001b[39mget_or_create_context(devnum)\n",
            "File \u001b[0;32m~/anaconda3/lib/python3.11/site-packages/numba/cuda/cudadrv/devices.py:138\u001b[0m, in \u001b[0;36m_Runtime.get_or_create_context\u001b[0;34m(self, devnum)\u001b[0m\n\u001b[1;32m    136\u001b[0m attached_ctx \u001b[38;5;241m=\u001b[39m \u001b[38;5;28mself\u001b[39m\u001b[38;5;241m.\u001b[39m_get_attached_context()\n\u001b[1;32m    137\u001b[0m \u001b[38;5;28;01mif\u001b[39;00m attached_ctx \u001b[38;5;129;01mis\u001b[39;00m \u001b[38;5;28;01mNone\u001b[39;00m:\n\u001b[0;32m--> 138\u001b[0m     \u001b[38;5;28;01mreturn\u001b[39;00m \u001b[38;5;28mself\u001b[39m\u001b[38;5;241m.\u001b[39m_get_or_create_context_uncached(devnum)\n\u001b[1;32m    139\u001b[0m \u001b[38;5;28;01melse\u001b[39;00m:\n\u001b[1;32m    140\u001b[0m     \u001b[38;5;28;01mreturn\u001b[39;00m attached_ctx\n",
            "File \u001b[0;32m~/anaconda3/lib/python3.11/site-packages/numba/cuda/cudadrv/devices.py:153\u001b[0m, in \u001b[0;36m_Runtime._get_or_create_context_uncached\u001b[0;34m(self, devnum)\u001b[0m\n\u001b[1;32m    147\u001b[0m \u001b[38;5;250m\u001b[39m\u001b[38;5;124;03m\"\"\"See also ``get_or_create_context(devnum)``.\u001b[39;00m\n\u001b[1;32m    148\u001b[0m \u001b[38;5;124;03mThis version does not read the cache.\u001b[39;00m\n\u001b[1;32m    149\u001b[0m \u001b[38;5;124;03m\"\"\"\u001b[39;00m\n\u001b[1;32m    150\u001b[0m \u001b[38;5;28;01mwith\u001b[39;00m \u001b[38;5;28mself\u001b[39m\u001b[38;5;241m.\u001b[39m_lock:\n\u001b[1;32m    151\u001b[0m     \u001b[38;5;66;03m# Try to get the active context in the CUDA stack or\u001b[39;00m\n\u001b[1;32m    152\u001b[0m     \u001b[38;5;66;03m# activate GPU-0 with the primary context\u001b[39;00m\n\u001b[0;32m--> 153\u001b[0m     \u001b[38;5;28;01mwith\u001b[39;00m driver\u001b[38;5;241m.\u001b[39mget_active_context() \u001b[38;5;28;01mas\u001b[39;00m ac:\n\u001b[1;32m    154\u001b[0m         \u001b[38;5;28;01mif\u001b[39;00m \u001b[38;5;129;01mnot\u001b[39;00m ac:\n\u001b[1;32m    155\u001b[0m             \u001b[38;5;28;01mreturn\u001b[39;00m \u001b[38;5;28mself\u001b[39m\u001b[38;5;241m.\u001b[39m_activate_context_for(\u001b[38;5;241m0\u001b[39m)\n",
            "File \u001b[0;32m~/anaconda3/lib/python3.11/site-packages/numba/cuda/cudadrv/driver.py:495\u001b[0m, in \u001b[0;36m_ActiveContext.__enter__\u001b[0;34m(self)\u001b[0m\n\u001b[1;32m    493\u001b[0m \u001b[38;5;28;01melse\u001b[39;00m:\n\u001b[1;32m    494\u001b[0m     hctx \u001b[38;5;241m=\u001b[39m drvapi\u001b[38;5;241m.\u001b[39mcu_context(\u001b[38;5;241m0\u001b[39m)\n\u001b[0;32m--> 495\u001b[0m     driver\u001b[38;5;241m.\u001b[39mcuCtxGetCurrent(byref(hctx))\n\u001b[1;32m    496\u001b[0m     hctx \u001b[38;5;241m=\u001b[39m hctx \u001b[38;5;28;01mif\u001b[39;00m hctx\u001b[38;5;241m.\u001b[39mvalue \u001b[38;5;28;01melse\u001b[39;00m \u001b[38;5;28;01mNone\u001b[39;00m\n\u001b[1;32m    498\u001b[0m \u001b[38;5;28;01mif\u001b[39;00m hctx \u001b[38;5;129;01mis\u001b[39;00m \u001b[38;5;28;01mNone\u001b[39;00m:\n",
            "File \u001b[0;32m~/anaconda3/lib/python3.11/site-packages/numba/cuda/cudadrv/driver.py:295\u001b[0m, in \u001b[0;36mDriver.__getattr__\u001b[0;34m(self, fname)\u001b[0m\n\u001b[1;32m    292\u001b[0m \u001b[38;5;28mself\u001b[39m\u001b[38;5;241m.\u001b[39mensure_initialized()\n\u001b[1;32m    294\u001b[0m \u001b[38;5;28;01mif\u001b[39;00m \u001b[38;5;28mself\u001b[39m\u001b[38;5;241m.\u001b[39minitialization_error \u001b[38;5;129;01mis\u001b[39;00m \u001b[38;5;129;01mnot\u001b[39;00m \u001b[38;5;28;01mNone\u001b[39;00m:\n\u001b[0;32m--> 295\u001b[0m     \u001b[38;5;28;01mraise\u001b[39;00m CudaSupportError(\u001b[38;5;124m\"\u001b[39m\u001b[38;5;124mError at driver init: \u001b[39m\u001b[38;5;130;01m\\n\u001b[39;00m\u001b[38;5;132;01m%s\u001b[39;00m\u001b[38;5;124m:\u001b[39m\u001b[38;5;124m\"\u001b[39m \u001b[38;5;241m%\u001b[39m\n\u001b[1;32m    296\u001b[0m                            \u001b[38;5;28mself\u001b[39m\u001b[38;5;241m.\u001b[39minitialization_error)\n\u001b[1;32m    298\u001b[0m \u001b[38;5;28;01mif\u001b[39;00m USE_NV_BINDING:\n\u001b[1;32m    299\u001b[0m     \u001b[38;5;28;01mreturn\u001b[39;00m \u001b[38;5;28mself\u001b[39m\u001b[38;5;241m.\u001b[39m_cuda_python_wrap_fn(fname)\n",
            "\u001b[0;31mCudaSupportError\u001b[0m: Error at driver init: \n\nCUDA driver library cannot be found.\nIf you are sure that a CUDA driver is installed,\ntry setting environment variable NUMBA_CUDA_DRIVER\nwith the file path of the CUDA driver shared library.\n:"
          ]
        }
      ],
      "source": [
        "# Create .jsonl from the extracted features, make a train/test split, and save in the right place.\n",
        "\n",
        "# set the following variable to True if you want to see a progress bar instead of the printed results:\n",
        "use_tqdm = False\n",
        "\n",
        "import os\n",
        "import json\n",
        "import random\n",
        "import librosa\n",
        "from pydub import AudioSegment\n",
        "import wave\n",
        "import re\n",
        "\n",
        "from functools import partial\n",
        "from tqdm import tqdm\n",
        "tqdm = partial(tqdm, position=0, leave=True)\n",
        "\n",
        "# make sure the .jsonl has a place to go\n",
        "os.makedirs(\"/home/murali/audiocraft/egs/train\", exist_ok=True)\n",
        "os.makedirs(\"/home/murali/audiocraft/egs/eval\", exist_ok=True)\n",
        "\n",
        "train_len = 0\n",
        "eval_len = 0\n",
        "temp_dataset_path = dataset_path + '/original'\n",
        "with open(\"/home/murali/audiocraft/egs/train/data.jsonl\", \"w\") as train_file, \\\n",
        "     open(\"/home/murali/audiocraft/egs/eval/data.jsonl\", \"w\") as eval_file:\n",
        "\n",
        "    dset = tqdm(os.listdir(temp_dataset_path)) if use_tqdm else os.listdir(temp_dataset_path)\n",
        "    print(dset)\n",
        "    random.shuffle(dset)\n",
        "\n",
        "    for filename in dset:\n",
        "        result = get_audio_features(os.path.join(temp_dataset_path, filename))\n",
        "\n",
        "        # TODO: make openai call, populate description and keywords\n",
        "\n",
        "        # get key and BPM\n",
        "        y, sr = librosa.load(os.path.join(temp_dataset_path, filename))\n",
        "        tempo, _ = librosa.beat.beat_track(y=y, sr=sr)\n",
        "        tempo = round(tempo) # not usually accurate lol\n",
        "        chroma = librosa.feature.chroma_stft(y=y, sr=sr)\n",
        "        key = np.argmax(np.sum(chroma, axis=1))\n",
        "        key = ['C', 'C#', 'D', 'D#', 'E', 'F', 'F#', 'G', 'G#', 'A', 'A#', 'B'][key]\n",
        "        length = librosa.get_duration(y=y, sr=sr)\n",
        "        # print(f\"{filename}: {result}, detected key {key}, detected bpm {tempo}\")\n",
        "\n",
        "        # THIS IS FOR MY OWN DATASET FORMAT\n",
        "        # Meant strictly to extract from format: \"artist name 4_chunk25.wav\"\n",
        "        # Modify for your own use!!\n",
        "        def extract_artist_from_filename(filename):\n",
        "            match = re.search(r'(.+?)\\s\\d+_chunk\\d+\\.wav', filename)\n",
        "            artist = match.group(1) if match else \"\"\n",
        "            return artist.replace(\"mix\", \"\").strip() if \"mix\" in artist else artist\n",
        "        artist_name = extract_artist_from_filename(filename)\n",
        "\n",
        "        # populate json\n",
        "        entry = {\n",
        "            \"key\": f\"{key}\",\n",
        "            \"artist\": artist_name,\n",
        "            \"sample_rate\": 44100,\n",
        "            \"file_extension\": \"wav\",\n",
        "            \"description\": \"\",\n",
        "            \"keywords\": \"\",\n",
        "            \"duration\": length,\n",
        "            \"bpm\": tempo,\n",
        "            \"genre\": result.get('genres', \"\"),\n",
        "            \"title\": \"\",\n",
        "            \"name\": \"\",\n",
        "            \"instrument\": result.get('instruments', \"\"),\n",
        "            \"moods\": result.get('moods', []),\n",
        "            \"path\": os.path.join(temp_dataset_path, filename),\n",
        "        }\n",
        "        print(entry)\n",
        "\n",
        "        # train/test split\n",
        "        if random.random() < 0.85:\n",
        "            train_len += 1\n",
        "            train_file.write(json.dumps(entry) + '\\n')\n",
        "        else:\n",
        "            eval_len += 1\n",
        "            eval_file.write(json.dumps(entry) + '\\n')\n",
        "\n",
        "print(train_len)\n",
        "print(eval_len)\n",
        "\n",
        "# clear cuda mem for finetuning\n",
        "from numba import cuda\n",
        "device = cuda.get_current_device()\n",
        "device.reset()"
      ]
    },
    {
      "cell_type": "markdown",
      "metadata": {
        "id": "yG68hiK5vxA2"
      },
      "source": [
        "# load dataset into musicgen\n",
        "\n",
        "a dataset for musicgen is:\n",
        "- a .yaml file with basic info about the audio sample rate and channels, and a pointer to .jsonl files containing the prompt metadata and links to the corresponding audio files.\n",
        "- the above .jsonl file\n",
        "- a folder full of audio\n",
        "\n",
        "it looks for the .yaml at `content/audiocraft/config/dset/audio/YOUR_TRAINING_RUN.yaml`, which you point to by setting `dset=audio/YOUR_TRAINING_RUN` in the `dora run` command. In my case, `YOUR_TRAINING_RUN` is `train` in the example code.\n",
        "\n",
        "Put 15% of your dataset in `egs/eval` at random. To help mitigate overfitting.\n",
        "\n",
        "- `train`: Data for training the model.\n",
        "- `valid`: Data for hyperparameter tuning and early stopping during training.\n",
        "- `evaluate`: Data for assessing the model's performance post-training.\n",
        "- `generate`: Data used for output generation, often the same as `train` but not necessarily.\n",
        "\n",
        "the `egs/YOUR_TRAINING_RUN` is referring to `content/audiocraft/egs/YOUR_TRAINING_RUN/data.jsonl`. the contents Eg:\n",
        "\n",
        "```\n",
        "{\n",
        "  \"key\": \"\", \"artist\": \"\", \"sample_rate\": 44100, \"file_extension\": \"wav\",\n",
        "  \"description\": \"\", \"keywords\": \"\", \"duration\": 30.0, \"bpm\": \"\", \"genre\": \"\",\n",
        "  \"title\": \"\", \"name\": \"\", \"instrument\": \"\", \"moods\": [],\n",
        "  \"path\": os.path.join(dataset_folder, filename),\n",
        "}\n",
        "```\n",
        "any of these fields will be omitted if empty, only \"path\" is required.\n",
        "\n",
        "## example:\n",
        "\n",
        "To construct the dataset:\n",
        "- all the audios are 30 seconds long @ 44100 samples\n",
        "- they live in `content/drive/MyDrive/samples/train_musicgen_edm_uncond/train/outputs`\n",
        "- the name of my training run (\"YOUR_TRAINING_RUN\") is \"train\""
      ]
    },
    {
      "cell_type": "code",
      "source": [
        "from google.colab import drive\n",
        "drive.mount('/content/drive')"
      ],
      "metadata": {
        "id": "Q8O9n_zBpAH-"
      },
      "execution_count": null,
      "outputs": []
    },
    {
      "cell_type": "code",
      "execution_count": null,
      "metadata": {
        "colab": {
          "base_uri": "https://localhost:8080/"
        },
        "id": "-2PGiow_wGZL",
        "outputId": "3d9cdd22-8122-4260-9664-11cb9f1c67da"
      },
      "outputs": [
        {
          "name": "stdout",
          "output_type": "stream",
          "text": [
            "dataset length: 8 audio clips\n",
            "train length: 5 audio clips\n",
            "eval length: 3 audio clips\n"
          ]
        }
      ],
      "source": [
        "# if there is a .json file for each audio file sharing the same filename, set this variable to True\n",
        "use_existing_json = False\n",
        "import os\n",
        "import json\n",
        "import random\n",
        "import wave\n",
        "\n",
        "# make sure the .jsonl has a place to go\n",
        "os.makedirs(\"/home/audiocraft/egs/train\", exist_ok=True)\n",
        "os.makedirs(\"/home/audiocraft/egs/eval\", exist_ok=True)\n",
        "\n",
        "# dataset_folder = \"/content/drive/MyDrive/samples/train_musicgen_edm_uncond/train/outputs\"\n",
        "dataset_folder = \"/home/data/samples/train_musicgen_edm_uncond/train/outputs/original\"\n",
        "train_manifest_path = \"/home/audiocraft/egs/train/data.jsonl\"\n",
        "eval_manifest_path = \"/home/audiocraft/egs/eval/data.jsonl\"\n",
        "\n",
        "dataset_len = 0\n",
        "train_len = 0\n",
        "eval_len = 0\n",
        "\n",
        "train_file = open(train_manifest_path, 'w')\n",
        "eval_file = open(eval_manifest_path, 'w')\n",
        "\n",
        "for filename in os.listdir(dataset_folder):\n",
        "    if filename.endswith(\".wav\"):\n",
        "        dataset_len += 1\n",
        "\n",
        "        if use_existing_json:\n",
        "            json_filepath = os.path.splitext(filename)[0] + \".json\"\n",
        "            if os.path.exists(json_filepath):\n",
        "                with open(json_filepath, 'r') as json_file:\n",
        "                    entry = json.load(json_file)\n",
        "                    entry[\"path\"] = os.path.join(dataset_folder, filename)\n",
        "            else:\n",
        "                print(f'error loading json: could not find {json_filepath}')\n",
        "        else:\n",
        "            import librosa\n",
        "            y, sr = librosa.load(os.path.join(dataset_path, filename))\n",
        "            length = librosa.get_duration(y=y, sr=sr)\n",
        "\n",
        "            entry = {\n",
        "                \"key\": \"\",\n",
        "                \"artist\": \"\",\n",
        "                \"sample_rate\": 44100,\n",
        "                \"file_extension\": \"wav\",\n",
        "                \"description\": \"\",\n",
        "                \"keywords\": \"\",\n",
        "                \"duration\": length,\n",
        "                \"bpm\": \"\",\n",
        "                \"genre\": \"electronic\",\n",
        "                \"title\": \"\",\n",
        "                \"name\": \"\",\n",
        "                \"instrument\": \"\",\n",
        "                \"moods\": [],\n",
        "                \"path\": os.path.join(dataset_folder, filename),\n",
        "            }\n",
        "\n",
        "        if random.random() < 0.85:\n",
        "            train_len += 1\n",
        "            train_file.write(json.dumps(entry) + '\\n')\n",
        "        else:\n",
        "            eval_len += 1\n",
        "            eval_file.write(json.dumps(entry) + '\\n')\n",
        "\n",
        "train_file.close()\n",
        "eval_file.close()\n",
        "\n",
        "print(f'dataset length: {dataset_len} audio clips')\n",
        "print(f'train length: {train_len} audio clips')\n",
        "print(f'eval length: {eval_len} audio clips')"
      ]
    },
    {
      "cell_type": "code",
      "execution_count": null,
      "metadata": {
        "id": "br7VuO_NvuwW"
      },
      "outputs": [],
      "source": [
        "# Make the .yaml\n",
        "\n",
        "config_path = \"/home/murali/audiocraft/config/dset/audio/train.yaml\"\n",
        "\n",
        "# point to the folders that your .jsonl is in\n",
        "data_path = \"egs/train\"\n",
        "eval_data_path = \"egs/eval\"\n",
        "\n",
        "package = \"package\" # yay python not letting me put #@.package in a string :/\n",
        "yaml_contents = f\"\"\"#@{package} __global__\n",
        "\n",
        "datasource:\n",
        "  max_channels: 2\n",
        "  max_sample_rate: 44100\n",
        "\n",
        "  evaluate: {eval_data_path}\n",
        "  generate: {data_path}\n",
        "  train: {data_path}\n",
        "  valid: {eval_data_path}\n",
        "\"\"\"\n",
        "\n",
        "with open(config_path, 'w') as yaml_file:\n",
        "    yaml_file.write(yaml_contents)"
      ]
    },
    {
      "cell_type": "markdown",
      "metadata": {
        "id": "us8clCVnv1IY"
      },
      "source": [
        "# Training\n",
        "\n",
        "Musicgen - `Dora` for hyperparameter tuning and monitoring.\n",
        "\n",
        "Start a finetuning run on the pretrained \"small\" model.\n",
        "Meta's documentation here.](https://github.com/facebookresearch/audiocraft/blob/main/docs/MUSICGEN.md#training-stereo-models)"
      ]
    },
    {
      "cell_type": "code",
      "execution_count": null,
      "metadata": {
        "id": "gOgKnb71n9eo"
      },
      "outputs": [],
      "source": [
        "import os\n",
        "os.chdir('/home/audiocraft')"
      ]
    },
    {
      "cell_type": "code",
      "execution_count": null,
      "metadata": {
        "id": "VcrtDHggv3qe"
      },
      "outputs": [],
      "source": [
        "%env USER=username\n",
        "# !cd audiocraft\n",
        "\n",
        "command = (\n",
        "    \"dora -P audiocraft run\"\n",
        "    \" solver=musicgen/musicgen_base_32khz\"\n",
        "    \" model/lm/model_scale=small\"\n",
        "    \" continue_from=//pretrained/facebook/musicgen-small\"\n",
        "    \" conditioner=text2music\"\n",
        "    \" dset=audio/train\"\n",
        "    \" dataset.num_workers=2\"\n",
        "    \" dataset.valid.num_samples=1\"\n",
        "    \" dataset.batch_size=2\" # Variable\n",
        "    \" schedule.cosine.warmup=8\"\n",
        "    \" optim.optimizer=adamw\" # uses dadaw by default, which is worse for single-gpu runs\n",
        "    \" optim.lr=1e-4\"\n",
        "    \" optim.epochs=5\" # stops training after 5 epochs - variable\n",
        "    \" optim.updates_per_epoch=1000\" # 2000 by default, vary this for checkpoints quicker ig\n",
        "    \" optim.adam.weight_decay=0.01\"\n",
        "    \" generate.lm.prompted_samples=False\" # skip super long generate step\n",
        "    \" generate.lm.gen_gt_samples=True\"\n",
        ")\n",
        "!{command}\n",
        "# print({command})"
      ]
    },
    {
      "cell_type": "code",
      "execution_count": null,
      "metadata": {
        "id": "y5QQaevGWelm"
      },
      "outputs": [],
      "source": [
        "# STEREO TRAINING EXAMPLE\n",
        "\n",
        "%env USER=username\n",
        "\n",
        "command = (\n",
        "    \"dora -P audiocraft run\"\n",
        "    \" solver=musicgen/musicgen_stereo_finetune_32khz\" # this config comes with all the stereo settings\n",
        "    \" model/lm/model_scale=small\"\n",
        "    \" continue_from=//pretrained/facebook/musicgen-stereo-small\" # point to the stereo model here\n",
        "    \" conditioner=text2music\"\n",
        "    \" dset=audio/train\"\n",
        "    \" dataset.num_workers=2\"\n",
        "    \" dataset.valid.num_samples=1\"\n",
        "    \" dataset.batch_size=2\"\n",
        "    \" schedule.cosine.warmup=8\"\n",
        "    \" optim.optimizer=adamw\"\n",
        "    \" optim.lr=1e-4\"\n",
        "    \" optim.epochs=5\"\n",
        "    \" optim.updates_per_epoch=1000\"\n",
        "    \" optim.adam.weight_decay=0.01\"\n",
        "    \" generate.lm.prompted_samples=False\" # skip super long generate step\n",
        "    \" generate.lm.gen_gt_samples=True\"\n",
        ")\n",
        "\n",
        "# !{command}\n",
        "print({command})"
      ]
    },
    {
      "cell_type": "code",
      "execution_count": null,
      "metadata": {
        "id": "ebWYeRaJzVi3"
      },
      "outputs": [],
      "source": [
        "# clear cuda mem\n",
        "from numba import cuda\n",
        "device = cuda.get_current_device()\n",
        "device.reset()"
      ]
    },
    {
      "cell_type": "markdown",
      "metadata": {
        "id": "9zlPbcLjv4qx"
      },
      "source": [
        "# Save, load, export"
      ]
    },
    {
      "cell_type": "code",
      "execution_count": null,
      "metadata": {
        "colab": {
          "base_uri": "https://localhost:8080/"
        },
        "id": "uvtz2uKm59AR",
        "outputId": "b46a0477-46bf-4b3d-92ca-1f965a10a686"
      },
      "outputs": [
        {
          "name": "stderr",
          "output_type": "stream",
          "text": [
            "WARNING:audiocraft.environment:Dora directory: /tmp/audiocraft_lyra\n"
          ]
        }
      ],
      "source": [
        "# Exporting .bin files from a training run:\n",
        "\n",
        "from audiocraft.utils import export\n",
        "from audiocraft import train\n",
        "\n",
        "sig = \"aec0903f\"\n",
        "\n",
        "# from https://github.com/facebookresearch/audiocraft/blob/main/docs/MUSICGEN.md#importing--exporting-models\n",
        "xp = train.main.get_xp_from_sig(sig)\n",
        "export.export_lm(xp.folder / 'checkpoint.th', '/content/checkpoints/finetune/state_dict.bin')\n",
        "export.export_pretrained_compression_model('facebook/encodec_32khz', '/content/checkpoints/finetune/compression_state_dict.bin')\n"
      ]
    },
    {
      "cell_type": "code",
      "execution_count": null,
      "metadata": {
        "id": "cOlUoUmh5_5g"
      },
      "outputs": [],
      "source": [
        "# Loading a finetune for inference:\n",
        "\n",
        "from audiocraft.models import MusicGen\n",
        "musicgen = MusicGen.get_pretrained('/content/checkpoints/finetune')"
      ]
    },
    {
      "cell_type": "code",
      "execution_count": null,
      "metadata": {
        "id": "3WkCSzDtv8ry"
      },
      "outputs": [],
      "source": [
        "# Resuming a run:\n",
        "\n",
        "sig = \"aec0903f\"\n",
        "\n",
        "command = (\n",
        "    \"dora run solver=musicgen/musicgen_base_32khz\"\n",
        "    \" model/lm/model_scale=small\"\n",
        "\n",
        "    f\" continue_from=//SIG/{sig}\"\n",
        "\n",
        "    # save the .th file, load it in a new runtime, and resume:\n",
        "    f\" continue_from=/tmp/audiocraft_lyra/xps/{sig}/checkpoint.th\"\n",
        "\n",
        "    \" conditioner=text2music\"\n",
        "    \" dset=audio/train\"\n",
        "    \" dataset.num_workers=2\"\n",
        "    \" dataset.valid.num_samples=1\"\n",
        "    \" dataset.batch_size=2\"\n",
        "    \" schedule.cosine.warmup=8\"\n",
        "    \" optim.optimizer=adamw\" # uses dadaw by default, which is worse for single-gpu runs\n",
        "    \" optim.lr=1e-4\"\n",
        "    \" optim.epochs=5\" # stops training after 5 epochs- change this\n",
        "    \" optim.adam.weight_decay=0.01\"\n",
        ")\n",
        "\n",
        "!{command}"
      ]
    },
    {
      "cell_type": "code",
      "execution_count": null,
      "metadata": {
        "colab": {
          "base_uri": "https://localhost:8080/",
          "height": 36
        },
        "id": "saZk_zzA5JVQ",
        "outputId": "06f161e0-be24-45fd-cdbc-4b42e1459769"
      },
      "outputs": [
        {
          "data": {
            "application/vnd.google.colaboratory.intrinsic+json": {
              "type": "string"
            },
            "text/plain": [
              "'/content/drive/MyDrive/musicgen_finetunes/checkpoints/new/checkpoint.th'"
            ]
          },
          "execution_count": 8,
          "metadata": {},
          "output_type": "execute_result"
        }
      ],
      "source": [
        "# Saving the .th file to google drive for persistence:\n",
        "# Point directly to the checkpoint in google drive\n",
        "\n",
        "import shutil\n",
        "sig = \"aec0903f\"\n",
        "\n",
        "source_path = f'/tmp/audiocraft_lyra/xps/{sig}/checkpoint.th'\n",
        "destination_path = '/content/drive/MyDrive/musicgen_finetunes/checkpoints/new'\n",
        "os.makedirs(destination_path, exist_ok=True)\n",
        "shutil.copy(source_path, destination_path)"
      ]
    },
    {
      "cell_type": "code",
      "execution_count": null,
      "metadata": {
        "id": "Xh61jbLQ7kcG"
      },
      "outputs": [],
      "source": [
        "# Attempt to save checkpoint on crash!!\n",
        "sig = \"aec0903f\"\n",
        "\n",
        "try:\n",
        "    !{command}\n",
        "except:\n",
        "    import shutil\n",
        "    source_path = f'/tmp/audiocraft_lyra/xps/{sig}/checkpoint.th'\n",
        "    destination_path = '/content/drive/MyDrive/musicgen_finetunes/checkpoints/'\n",
        "    os.makedirs(destination_path, exist_ok=True)\n",
        "    shutil.copy(source_path, destination_path)"
      ]
    },
    {
      "cell_type": "markdown",
      "metadata": {
        "id": "UjevANVKv_dw"
      },
      "source": [
        "# generate\n",
        "\n",
        "for more info on using the multi-band diffusion model, read the docs here:\n",
        "https://github.com/facebookresearch/audiocraft/blob/main/docs/MBD.md\n",
        "\n",
        "Note: To load the model from drive so you can use these examples without running the training script first, change `content/checkpoints/finetune` in the first cell to the path to the drive folder that the two `.bin` files are saved in. in the exporting example, it was `content/drive/MyDrive/musicgen_finetunes/checkpoints/`."
      ]
    },
    {
      "cell_type": "code",
      "execution_count": null,
      "metadata": {
        "id": "yLsA5LvCv-hx"
      },
      "outputs": [],
      "source": [
        "from audiocraft.data.audio import audio_write\n",
        "import IPython.display as ipd\n",
        "from audiocraft.models import MusicGen\n",
        "import numpy as np\n",
        "\n",
        "# load your finetune\n",
        "musicgen = MusicGen.get_pretrained('/content/checkpoints/finetune')\n",
        "musicgen.set_generation_params(duration=16)"
      ]
    },
    {
      "cell_type": "code",
      "execution_count": null,
      "metadata": {
        "id": "zReKGkmKpAZi"
      },
      "outputs": [],
      "source": [
        "# Example 1: unconditional generation\n",
        "\n",
        "wavs = musicgen.generate_unconditional(4)\n",
        "\n",
        "# save and display generated audio\n",
        "for idx, one_wav in enumerate(wavs):\n",
        "    audio_write(f'{idx}', one_wav.cpu(), musicgen.sample_rate, strategy=\"loudness\", loudness_compressor=True)\n",
        "    ipd.display(ipd.Audio(one_wav.cpu(), rate=32000))"
      ]
    },
    {
      "cell_type": "code",
      "execution_count": null,
      "metadata": {
        "id": "-ZMKusYNpYzL"
      },
      "outputs": [],
      "source": [
        "# Example 2: text guided generation\n",
        "\n",
        "wavs = musicgen.generate([\n",
        "    'disco',\n",
        "    'slide guitar bluegrass',\n",
        "    'breakbeat, amen break',\n",
        "    'epic orchestral strings'\n",
        "])\n",
        "\n",
        "# save and display generated audio\n",
        "for idx, one_wav in enumerate(wavs):\n",
        "    audio_write(f'{idx}', one_wav.cpu(), musicgen.sample_rate, strategy=\"loudness\", loudness_compressor=True)\n",
        "    ipd.display(ipd.Audio(one_wav.cpu(), rate=32000))"
      ]
    },
    {
      "cell_type": "code",
      "execution_count": null,
      "metadata": {
        "id": "LVXEuvhnr-lO"
      },
      "outputs": [],
      "source": [
        "# helper functions for handling sample input and continations\n",
        "# RUN THIS BEFORE RUNNING THE NEXT CELLS!\n",
        "\n",
        "import julius, torch\n",
        "\n",
        "def normalize_audio(audio_data):\n",
        "    max_value = torch.max(torch.abs(audio_data))\n",
        "    audio_data /= max_value\n",
        "    return audio_data\n",
        "\n",
        "def convert_audio_channels(wav: torch.Tensor, channels: int = 2) -> torch.Tensor:\n",
        "    *shape, src_channels, length = wav.shape\n",
        "    if src_channels == channels:\n",
        "        pass\n",
        "    elif channels == 1:\n",
        "        wav = wav.mean(dim=-2, keepdim=True)\n",
        "    elif src_channels == 1:\n",
        "        wav = wav.expand(*shape, channels, length)\n",
        "    elif src_channels >= channels:\n",
        "        wav = wav[..., :channels, :]\n",
        "    else:\n",
        "        raise ValueError('The audio file has less channels than requested but is not mono.')\n",
        "    return wav\n",
        "\n",
        "def convert_audio(wav: torch.Tensor, from_rate: float, to_rate: float, to_channels: int) -> torch.Tensor:\n",
        "    wav = julius.resample_frac(wav, int(from_rate), int(to_rate))\n",
        "    wav = convert_audio_channels(wav, to_channels)\n",
        "    return wav\n",
        "\n",
        "# runs musicgen.generate_continuation in 30s chunks and appends them until it reaches generation_length\n",
        "\n",
        "def generate_audio_continuation(musicgen, sample, generation_length, segment_length=30, overlap=10):\n",
        "    overlap_samples = overlap * 32000\n",
        "    segment_samples = segment_length * 32000\n",
        "    output = np.array([])\n",
        "    output = np.concatenate((output, sample.cpu().squeeze().numpy().astype(np.float32)))\n",
        "    init_length = len(output) / 32000\n",
        "\n",
        "    while len(output) / 32000 < generation_length:\n",
        "        musicgen.set_generation_params(duration=segment_length)\n",
        "        prompt = torch.tensor(np.array([output[-overlap_samples:]]), dtype=torch.float32)\n",
        "        res = musicgen.generate_continuation(prompt=prompt, prompt_sample_rate=32000)\n",
        "        res = res.cpu().squeeze().numpy().astype(np.float32)\n",
        "        output = np.concatenate((output, res[overlap_samples:]))\n",
        "\n",
        "    return output"
      ]
    },
    {
      "cell_type": "code",
      "execution_count": null,
      "metadata": {
        "id": "O-urbQ1rp0zy"
      },
      "outputs": [],
      "source": [
        "# Example 3: sample continuation\n",
        "# run the helper functions cell or this won't work!\n",
        "\n",
        "# upload your file\n",
        "from google.colab import files\n",
        "uploaded = files.upload()\n",
        "\n",
        "input_audio_filename = next(iter(uploaded.keys()))\n",
        "sample, sample_sr = torchaudio.load(input_audio_filename)\n",
        "sample = normalize_audio(sample)\n",
        "sample = convert_audio(sample, sample_sr, 32000, 1)\n",
        "\n",
        "# generate\n",
        "wav = generate_audio_continuation(musicgen, sample, 60)\n",
        "\n",
        "# save and display generated audio\n",
        "audio_write('continuation', output.cpu(), musicgen.sample_rate, strategy=\"loudness\", loudness_compressor=True)\n",
        "ipd.display(ipd.Audio(output, rate=32000))"
      ]
    },
    {
      "cell_type": "code",
      "execution_count": null,
      "metadata": {
        "id": "ABzE8Jyyr0Ub"
      },
      "outputs": [],
      "source": [
        "# Example 4: long generations (self-continuation)\n",
        "# run the helper functions cell to make this work!\n",
        "\n",
        "# this is unconditional for the example, swap in text guidance as needed.\n",
        "wavs = musicgen.generate_unconditional(4)\n",
        "\n",
        "# continuations only work on one sample at a time\n",
        "for idx, wav in enumerate(wavs):\n",
        "\n",
        "    wav = generate_audio_continuation(musicgen, wav, 60)\n",
        "\n",
        "    audio_write(f'{idx}', wav.cpu(), musicgen.sample_rate, strategy=\"loudness\", loudness_compressor=True)\n",
        "    ipd.display(ipd.Audio(wav.cpu(), rate=32000))"
      ]
    },
    {
      "cell_type": "code",
      "execution_count": null,
      "metadata": {
        "id": "X3L0vDwKvm6B"
      },
      "outputs": [],
      "source": [
        "# Example 6: multiband diffusion decoder\n",
        "\n",
        "from audiocraft.models import MusicGen, MultiBandDiffusion\n",
        "mbd = MultiBandDiffusion.get_mbd_musicgen()\n",
        "\n",
        "# use mbd to generate the audio from the codebook tokens\n",
        "wavs, tokens = musicgen.generate_unconditional(4, return_tokens=True)\n",
        "wavs_diffusion = mbd.tokens_to_wav(tokens)\n",
        "\n",
        "# save and display generated audio\n",
        "for idx, one_wav in enumerate(wavs):\n",
        "    audio_write(f'{idx}', one_wav.cpu(), musicgen.sample_rate, strategy=\"loudness\", loudness_compressor=True)\n",
        "    audio_write(f'{idx}_diffusion', wavs_diffusion[idx].cpu(), musicgen.sample_rate, strategy=\"loudness\", loudness_compressor=True)\n",
        "\n",
        "    print('default decoder:')\n",
        "    ipd.display(ipd.Audio(one_wav.cpu(), rate=32000))\n",
        "    print('multiband diffusion:')\n",
        "    ipd.display(ipd.Audio(wavs_diffusion[idx].cpu().cpu(), rate=32000))"
      ]
    },
    {
      "cell_type": "code",
      "execution_count": null,
      "metadata": {
        "id": "-YVBB-7cdgYF"
      },
      "outputs": [],
      "source": [
        "# Stereo inference\n",
        "# Loading a custom checkpoint.\n",
        "\n",
        "\n",
        "from audiocraft.models import MusicGen\n",
        "import IPython.display as ipd\n",
        "\n",
        "model = MusicGen.get_pretrained(\"facebook/musicgen-stereo-medium\")\n",
        "model.set_generation_params(duration=8)\n",
        "\n",
        "wavs = model.generate([\n",
        "    'disco',\n",
        "    'slide guitar bluegrass',\n",
        "    'breakbeat, amen break',\n",
        "    'epic orchestral strings'\n",
        "])\n",
        "\n",
        "for idx, one_wav in enumerate(wavs):\n",
        "    ipd.display(ipd.Audio(one_wav.cpu(), rate=model.sample_rate))\n"
      ]
    },
    {
      "cell_type": "markdown",
      "metadata": {
        "id": "RUjdT47y0hJR"
      },
      "source": [
        "# local installation for inference (or training with good enough hardware)\n",
        "\n",
        "## step 1 - environment\n",
        "\n",
        "once conda's installed, run:\n",
        "\n",
        "```\n",
        "conda create --name musicgen\n",
        "conda activate musicgen\n",
        "```\n",
        "\n",
        "make a folder for your musicgen projects to live. Use `cd` to this folder before running the commands in the next step.\n",
        "\n",
        "## step 2 - audiocraft\n",
        "\n",
        "Start installing.\n",
        "\n",
        "Install Git\n",
        "\n",
        "```\n",
        "git clone https://github.com/facebookresearch/audiocraft.git\n",
        "cd audiocraft\n",
        "pip install -e .\n",
        "pip install dora-search julius\n",
        "```\n",
        "\n",
        "running these out of the box should install dependencies, but it'll give a pytorch-cpu version with no GPU access by default. Need a CUDA version to actually run this.\n",
        "\n",
        "## step 3 - torch with cuda\n",
        "\n",
        "Need cuda for this to work: https://developer.nvidia.com/cuda-downloads\n",
        "\n",
        "`pip install --upgrade torch --extra-index-url https://download.pytorch.org/whl/cu117`\n",
        "\n",
        "You can't install torch with cuda *first*, because audiocraft will overwrite it during install.\n",
        "\n",
        "## step 4 - make a script and run\n",
        "\n",
        "Script to check:\n",
        "\n",
        "```\n",
        "import torchaudio\n",
        "from audiocraft.models import MusicGen\n",
        "from audiocraft.data.audio import audio_write\n",
        "\n",
        "print('loading model...')\n",
        "model = MusicGen.get_pretrained('facebook/musicgen-small')\n",
        "model.set_generation_params(duration=8)\n",
        "\n",
        "print('generating...')\n",
        "wav = model.generate_unconditional(4)\n",
        "\n",
        "print('saving...')\n",
        "for idx, one_wav in enumerate(wav):\n",
        "    audio_write(f'{idx}', one_wav.cpu(), model.sample_rate, strategy=\"loudness\", loudness_compressor=True)\n",
        "\n",
        "print('done!')\n",
        "```\n",
        "\n",
        "save this as `example.py` and run it toget a `1.wav` file.\n"
      ]
    },
    {
      "cell_type": "markdown",
      "metadata": {
        "id": "uBGn9yn1F352"
      },
      "source": [
        "# training from scratch with DAC\n",
        "\n",
        "TBA, still being testing. Below code may help you get started but probably won't figure everything out for you:\n",
        "\n",
        "```py\n",
        "!git clone https://github.com/facebookresearch/audiocraft.git\n",
        "%cd audiocraft\n",
        "!pip install -e .\n",
        "!pip install dora-search descript-audio-codec\n",
        "!pip install -U protobuf\n",
        "```\n",
        "\n",
        "```py\n",
        "%env USER=lyra\n",
        "command = (\n",
        "    \"dora -P audiocraft run -d\"\n",
        "    \" solver=musicgen/musicgen_base_32khz\"\n",
        "        # should probably put all this in a config, its no longer 32k\n",
        "        # mostly just using this to handle defaults i dont want to worry about setting here\n",
        "    \" model/lm/model_scale=medium\"\n",
        "    \" compression_model_checkpoint=//pretrained/dac_44khz\"\n",
        "    \" sample_rate=44100\"\n",
        "    \" transformer_lm.card=1024\"\n",
        "    \" transformer_lm.n_q=9\"\n",
        "    \" codebooks_pattern.modeling=delay\"\n",
        "    \" codebooks_pattern.delay.delays=[0,1,2,3,4,5,6,7,8]\"\n",
        "    \" conditioner=text2music\"\n",
        "    \" dset=audio/train\"\n",
        "    \" dataset.num_workers=2\"\n",
        "    \" dataset.valid.num_samples=1\"\n",
        "    \" dataset.batch_size=2\"\n",
        "    \" schedule.cosine.warmup=8\"\n",
        "    \" optim.optimizer=adamw\"\n",
        "    \" optim.lr=1e-4\"\n",
        "    \" optim.epochs=5\"\n",
        "    \" optim.updates_per_epoch=10\"\n",
        "    \" optim.adam.weight_decay=0.01\"\n",
        "    \" fsdp.use=true\"\n",
        "    \" autocast=false\"\n",
        ")\n",
        "!{command}\n",
        "```"
      ]
    }
  ],
  "metadata": {
    "accelerator": "GPU",
    "colab": {
      "collapsed_sections": [
        "ikoib4YboTBY",
        "yG68hiK5vxA2",
        "9zlPbcLjv4qx",
        "UjevANVKv_dw"
      ],
      "gpuType": "T4",
      "provenance": []
    },
    "kernelspec": {
      "display_name": "Python 3 (ipykernel)",
      "language": "python",
      "name": "python3"
    },
    "language_info": {
      "codemirror_mode": {
        "name": "ipython",
        "version": 3
      },
      "file_extension": ".py",
      "mimetype": "text/x-python",
      "name": "python",
      "nbconvert_exporter": "python",
      "pygments_lexer": "ipython3",
      "version": "3.11.7"
    }
  },
  "nbformat": 4,
  "nbformat_minor": 0
}